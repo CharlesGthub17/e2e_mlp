{
 "cells": [
  {
   "cell_type": "markdown",
   "id": "5b837580",
   "metadata": {},
   "source": [
    "# 1) Model Training"
   ]
  },
  {
   "cell_type": "markdown",
   "id": "f2900f36",
   "metadata": {},
   "source": [
    "## 1.1 Importing Data and Packages "
   ]
  },
  {
   "cell_type": "code",
   "execution_count": 1,
   "id": "b2bd37f3",
   "metadata": {},
   "outputs": [],
   "source": [
    "import numpy as np\n",
    "import pandas as pd\n",
    "import matplotlib.pyplot as plt\n",
    "import seaborn as sns\n",
    "\n",
    "from sklearn.metrics import mean_squared_error,mean_absolute_error,r2_score\n",
    "from sklearn.neighbors import KNeighborsRegressor\n",
    "from sklearn.tree import DecisionTreeRegressor\n",
    "from sklearn.ensemble import RandomForestRegressor,AdaBoostRegressor\n",
    "from sklearn.svm import SVR\n",
    "from sklearn.linear_model import LinearRegression, Ridge, Lasso\n",
    "from sklearn.model_selection import RandomizedSearchCV\n",
    "from xgboost import XGBRegressor\n",
    "\n",
    "import warnings\n",
    "warnings.filterwarnings(\"ignore\")"
   ]
  },
  {
   "cell_type": "markdown",
   "id": "4ecfcd18",
   "metadata": {},
   "source": [
    "### Importing the Dataset"
   ]
  },
  {
   "cell_type": "code",
   "execution_count": 2,
   "id": "86d61492",
   "metadata": {
    "scrolled": false
   },
   "outputs": [
    {
     "data": {
      "text/html": [
       "<div>\n",
       "<style scoped>\n",
       "    .dataframe tbody tr th:only-of-type {\n",
       "        vertical-align: middle;\n",
       "    }\n",
       "\n",
       "    .dataframe tbody tr th {\n",
       "        vertical-align: top;\n",
       "    }\n",
       "\n",
       "    .dataframe thead th {\n",
       "        text-align: right;\n",
       "    }\n",
       "</style>\n",
       "<table border=\"1\" class=\"dataframe\">\n",
       "  <thead>\n",
       "    <tr style=\"text-align: right;\">\n",
       "      <th></th>\n",
       "      <th>Name</th>\n",
       "      <th>Brand</th>\n",
       "      <th>Ratings</th>\n",
       "      <th>No_of_ratings</th>\n",
       "      <th>No_of_reviews</th>\n",
       "      <th>Product_features</th>\n",
       "      <th>MSP</th>\n",
       "      <th>MRP</th>\n",
       "      <th>Discount</th>\n",
       "    </tr>\n",
       "  </thead>\n",
       "  <tbody>\n",
       "    <tr>\n",
       "      <th>0</th>\n",
       "      <td>realme 9i (Prism Blue, 64 GB)</td>\n",
       "      <td>realme</td>\n",
       "      <td>4.5</td>\n",
       "      <td>1,11,865</td>\n",
       "      <td>6611</td>\n",
       "      <td>['4 GB RAM | 64 GB ROM | Expandable Upto 1 TB'...</td>\n",
       "      <td>10999</td>\n",
       "      <td>15999</td>\n",
       "      <td>31</td>\n",
       "    </tr>\n",
       "    <tr>\n",
       "      <th>1</th>\n",
       "      <td>realme 9i (Prism Black, 64 GB)</td>\n",
       "      <td>realme</td>\n",
       "      <td>4.5</td>\n",
       "      <td>1,11,865</td>\n",
       "      <td>6611</td>\n",
       "      <td>['4 GB RAM | 64 GB ROM | Expandable Upto 1 TB'...</td>\n",
       "      <td>10999</td>\n",
       "      <td>15999</td>\n",
       "      <td>31</td>\n",
       "    </tr>\n",
       "    <tr>\n",
       "      <th>2</th>\n",
       "      <td>realme 9i (Prism Blue, 128 GB)</td>\n",
       "      <td>realme</td>\n",
       "      <td>4.5</td>\n",
       "      <td>25380</td>\n",
       "      <td>1517</td>\n",
       "      <td>['6 GB RAM | 128 GB ROM | Expandable Upto 1 TB...</td>\n",
       "      <td>13499</td>\n",
       "      <td>17999</td>\n",
       "      <td>25</td>\n",
       "    </tr>\n",
       "    <tr>\n",
       "      <th>3</th>\n",
       "      <td>realme 9i (Prism Black, 128 GB)</td>\n",
       "      <td>realme</td>\n",
       "      <td>4.5</td>\n",
       "      <td>1,11,865</td>\n",
       "      <td>6611</td>\n",
       "      <td>['4 GB RAM | 128 GB ROM | Expandable Upto 1 TB...</td>\n",
       "      <td>10999</td>\n",
       "      <td>16999</td>\n",
       "      <td>35</td>\n",
       "    </tr>\n",
       "    <tr>\n",
       "      <th>4</th>\n",
       "      <td>realme 9i (Prism Blue, 128 GB)</td>\n",
       "      <td>realme</td>\n",
       "      <td>4.5</td>\n",
       "      <td>1,11,865</td>\n",
       "      <td>6611</td>\n",
       "      <td>['4 GB RAM | 128 GB ROM | Expandable Upto 1 TB...</td>\n",
       "      <td>10999</td>\n",
       "      <td>16999</td>\n",
       "      <td>35</td>\n",
       "    </tr>\n",
       "    <tr>\n",
       "      <th>...</th>\n",
       "      <td>...</td>\n",
       "      <td>...</td>\n",
       "      <td>...</td>\n",
       "      <td>...</td>\n",
       "      <td>...</td>\n",
       "      <td>...</td>\n",
       "      <td>...</td>\n",
       "      <td>...</td>\n",
       "      <td>...</td>\n",
       "    </tr>\n",
       "    <tr>\n",
       "      <th>617</th>\n",
       "      <td>MOTOROLA e32 (Eco Black, 64 GB)</td>\n",
       "      <td>MOTOROLA</td>\n",
       "      <td>4.2</td>\n",
       "      <td>123</td>\n",
       "      <td>16</td>\n",
       "      <td>['4 GB RAM | 64 GB ROM | Expandable Upto 1 TB'...</td>\n",
       "      <td>9499</td>\n",
       "      <td>11999</td>\n",
       "      <td>20</td>\n",
       "    </tr>\n",
       "    <tr>\n",
       "      <th>618</th>\n",
       "      <td>REDMI Note 9 (Pebble Grey, 128 GB)</td>\n",
       "      <td>REDMI</td>\n",
       "      <td>4.3</td>\n",
       "      <td>1,23,381</td>\n",
       "      <td>9426</td>\n",
       "      <td>['4 GB RAM | 128 GB ROM | Expandable Upto 512 ...</td>\n",
       "      <td>13499</td>\n",
       "      <td>16499</td>\n",
       "      <td>18</td>\n",
       "    </tr>\n",
       "    <tr>\n",
       "      <th>619</th>\n",
       "      <td>SAMSUNG Galaxy A13 (Blue, 128 GB)</td>\n",
       "      <td>SAMSUNG</td>\n",
       "      <td>4.1</td>\n",
       "      <td>247</td>\n",
       "      <td>19</td>\n",
       "      <td>['6 GB RAM | 128 GB ROM | Expandable Upto 1 TB...</td>\n",
       "      <td>16999</td>\n",
       "      <td>20990</td>\n",
       "      <td>19</td>\n",
       "    </tr>\n",
       "    <tr>\n",
       "      <th>620</th>\n",
       "      <td>REDMI Note 11 Pro (Star Blue, 128 GB)</td>\n",
       "      <td>REDMI</td>\n",
       "      <td>4.1</td>\n",
       "      <td>611</td>\n",
       "      <td>43</td>\n",
       "      <td>['8 GB RAM | 128 GB ROM', '16.94 cm (6.67 inch...</td>\n",
       "      <td>19395</td>\n",
       "      <td>20689</td>\n",
       "      <td>6</td>\n",
       "    </tr>\n",
       "    <tr>\n",
       "      <th>621</th>\n",
       "      <td>OPPO F21 Pro (Cosmic Black, 128 GB)</td>\n",
       "      <td>OPPO</td>\n",
       "      <td>4.3</td>\n",
       "      <td>1756</td>\n",
       "      <td>149</td>\n",
       "      <td>['8 GB RAM | 128 GB ROM', '16.33 cm (6.43 inch...</td>\n",
       "      <td>21999</td>\n",
       "      <td>27999</td>\n",
       "      <td>21</td>\n",
       "    </tr>\n",
       "  </tbody>\n",
       "</table>\n",
       "<p>622 rows × 9 columns</p>\n",
       "</div>"
      ],
      "text/plain": [
       "                                      Name     Brand  Ratings No_of_ratings  \\\n",
       "0            realme 9i (Prism Blue, 64 GB)    realme      4.5      1,11,865   \n",
       "1           realme 9i (Prism Black, 64 GB)    realme      4.5      1,11,865   \n",
       "2           realme 9i (Prism Blue, 128 GB)    realme      4.5         25380   \n",
       "3          realme 9i (Prism Black, 128 GB)    realme      4.5      1,11,865   \n",
       "4           realme 9i (Prism Blue, 128 GB)    realme      4.5      1,11,865   \n",
       "..                                     ...       ...      ...           ...   \n",
       "617        MOTOROLA e32 (Eco Black, 64 GB)  MOTOROLA      4.2           123   \n",
       "618     REDMI Note 9 (Pebble Grey, 128 GB)     REDMI      4.3      1,23,381   \n",
       "619      SAMSUNG Galaxy A13 (Blue, 128 GB)   SAMSUNG      4.1           247   \n",
       "620  REDMI Note 11 Pro (Star Blue, 128 GB)     REDMI      4.1           611   \n",
       "621    OPPO F21 Pro (Cosmic Black, 128 GB)      OPPO      4.3          1756   \n",
       "\n",
       "     No_of_reviews                                   Product_features    MSP  \\\n",
       "0             6611  ['4 GB RAM | 64 GB ROM | Expandable Upto 1 TB'...  10999   \n",
       "1             6611  ['4 GB RAM | 64 GB ROM | Expandable Upto 1 TB'...  10999   \n",
       "2             1517  ['6 GB RAM | 128 GB ROM | Expandable Upto 1 TB...  13499   \n",
       "3             6611  ['4 GB RAM | 128 GB ROM | Expandable Upto 1 TB...  10999   \n",
       "4             6611  ['4 GB RAM | 128 GB ROM | Expandable Upto 1 TB...  10999   \n",
       "..             ...                                                ...    ...   \n",
       "617             16  ['4 GB RAM | 64 GB ROM | Expandable Upto 1 TB'...   9499   \n",
       "618           9426  ['4 GB RAM | 128 GB ROM | Expandable Upto 512 ...  13499   \n",
       "619             19  ['6 GB RAM | 128 GB ROM | Expandable Upto 1 TB...  16999   \n",
       "620             43  ['8 GB RAM | 128 GB ROM', '16.94 cm (6.67 inch...  19395   \n",
       "621            149  ['8 GB RAM | 128 GB ROM', '16.33 cm (6.43 inch...  21999   \n",
       "\n",
       "       MRP  Discount  \n",
       "0    15999        31  \n",
       "1    15999        31  \n",
       "2    17999        25  \n",
       "3    16999        35  \n",
       "4    16999        35  \n",
       "..     ...       ...  \n",
       "617  11999        20  \n",
       "618  16499        18  \n",
       "619  20990        19  \n",
       "620  20689         6  \n",
       "621  27999        21  \n",
       "\n",
       "[622 rows x 9 columns]"
      ]
     },
     "execution_count": 2,
     "metadata": {},
     "output_type": "execute_result"
    }
   ],
   "source": [
    "df=pd.read_csv(r\"C:\\Users\\charl\\Downloads\\flipkart_mobiles.csv\")\n",
    "\n",
    "df"
   ]
  },
  {
   "cell_type": "code",
   "execution_count": 3,
   "id": "f09d5bb5",
   "metadata": {},
   "outputs": [
    {
     "name": "stdout",
     "output_type": "stream",
     "text": [
      "                                      Name     Brand  Ratings  No_of_ratings  \\\n",
      "0            realme 9i (Prism Blue, 64 GB)    realme      4.5         111865   \n",
      "1           realme 9i (Prism Black, 64 GB)    realme      4.5         111865   \n",
      "2           realme 9i (Prism Blue, 128 GB)    realme      4.5          25380   \n",
      "3          realme 9i (Prism Black, 128 GB)    realme      4.5         111865   \n",
      "4           realme 9i (Prism Blue, 128 GB)    realme      4.5         111865   \n",
      "..                                     ...       ...      ...            ...   \n",
      "617        MOTOROLA e32 (Eco Black, 64 GB)  MOTOROLA      4.2            123   \n",
      "618     REDMI Note 9 (Pebble Grey, 128 GB)     REDMI      4.3         123381   \n",
      "619      SAMSUNG Galaxy A13 (Blue, 128 GB)   SAMSUNG      4.1            247   \n",
      "620  REDMI Note 11 Pro (Star Blue, 128 GB)     REDMI      4.1            611   \n",
      "621    OPPO F21 Pro (Cosmic Black, 128 GB)      OPPO      4.3           1756   \n",
      "\n",
      "     No_of_reviews                                   Product_features    MSP  \\\n",
      "0             6611  ['4 GB RAM | 64 GB ROM | Expandable Upto 1 TB'...  10999   \n",
      "1             6611  ['4 GB RAM | 64 GB ROM | Expandable Upto 1 TB'...  10999   \n",
      "2             1517  ['6 GB RAM | 128 GB ROM | Expandable Upto 1 TB...  13499   \n",
      "3             6611  ['4 GB RAM | 128 GB ROM | Expandable Upto 1 TB...  10999   \n",
      "4             6611  ['4 GB RAM | 128 GB ROM | Expandable Upto 1 TB...  10999   \n",
      "..             ...                                                ...    ...   \n",
      "617             16  ['4 GB RAM | 64 GB ROM | Expandable Upto 1 TB'...   9499   \n",
      "618           9426  ['4 GB RAM | 128 GB ROM | Expandable Upto 512 ...  13499   \n",
      "619             19  ['6 GB RAM | 128 GB ROM | Expandable Upto 1 TB...  16999   \n",
      "620             43  ['8 GB RAM | 128 GB ROM', '16.94 cm (6.67 inch...  19395   \n",
      "621            149  ['8 GB RAM | 128 GB ROM', '16.33 cm (6.43 inch...  21999   \n",
      "\n",
      "       MRP  Discount  \n",
      "0    15999        31  \n",
      "1    15999        31  \n",
      "2    17999        25  \n",
      "3    16999        35  \n",
      "4    16999        35  \n",
      "..     ...       ...  \n",
      "617  11999        20  \n",
      "618  16499        18  \n",
      "619  20990        19  \n",
      "620  20689         6  \n",
      "621  27999        21  \n",
      "\n",
      "[622 rows x 9 columns]\n"
     ]
    }
   ],
   "source": [
    "# Converting categorical to numerical columns\n",
    "df[\"No_of_ratings\"] = df[\"No_of_ratings\"].str.replace(\",\", \"\").astype(int)\n",
    "df[\"MSP\"] = df[\"MSP\"].str.replace(\",\", \"\").astype(int)\n",
    "df[\"MRP\"] = df[\"MRP\"].str.replace(\",\", \"\").astype(int)\n",
    "\n",
    "print(df)"
   ]
  },
  {
   "cell_type": "code",
   "execution_count": 4,
   "id": "5a4aecc8",
   "metadata": {},
   "outputs": [
    {
     "name": "stdout",
     "output_type": "stream",
     "text": [
      "<class 'pandas.core.frame.DataFrame'>\n",
      "RangeIndex: 622 entries, 0 to 621\n",
      "Data columns (total 9 columns):\n",
      " #   Column            Non-Null Count  Dtype  \n",
      "---  ------            --------------  -----  \n",
      " 0   Name              622 non-null    object \n",
      " 1   Brand             622 non-null    object \n",
      " 2   Ratings           622 non-null    float64\n",
      " 3   No_of_ratings     622 non-null    int32  \n",
      " 4   No_of_reviews     622 non-null    int64  \n",
      " 5   Product_features  622 non-null    object \n",
      " 6   MSP               622 non-null    int32  \n",
      " 7   MRP               622 non-null    int32  \n",
      " 8   Discount          622 non-null    int64  \n",
      "dtypes: float64(1), int32(3), int64(2), object(3)\n",
      "memory usage: 36.6+ KB\n"
     ]
    }
   ],
   "source": [
    "df.info()"
   ]
  },
  {
   "cell_type": "markdown",
   "id": "f47da352",
   "metadata": {},
   "source": [
    "### Top 5 Data Records"
   ]
  },
  {
   "cell_type": "code",
   "execution_count": 5,
   "id": "1f322665",
   "metadata": {},
   "outputs": [
    {
     "data": {
      "text/html": [
       "<div>\n",
       "<style scoped>\n",
       "    .dataframe tbody tr th:only-of-type {\n",
       "        vertical-align: middle;\n",
       "    }\n",
       "\n",
       "    .dataframe tbody tr th {\n",
       "        vertical-align: top;\n",
       "    }\n",
       "\n",
       "    .dataframe thead th {\n",
       "        text-align: right;\n",
       "    }\n",
       "</style>\n",
       "<table border=\"1\" class=\"dataframe\">\n",
       "  <thead>\n",
       "    <tr style=\"text-align: right;\">\n",
       "      <th></th>\n",
       "      <th>Name</th>\n",
       "      <th>Brand</th>\n",
       "      <th>Ratings</th>\n",
       "      <th>No_of_ratings</th>\n",
       "      <th>No_of_reviews</th>\n",
       "      <th>Product_features</th>\n",
       "      <th>MSP</th>\n",
       "      <th>MRP</th>\n",
       "      <th>Discount</th>\n",
       "    </tr>\n",
       "  </thead>\n",
       "  <tbody>\n",
       "    <tr>\n",
       "      <th>0</th>\n",
       "      <td>realme 9i (Prism Blue, 64 GB)</td>\n",
       "      <td>realme</td>\n",
       "      <td>4.5</td>\n",
       "      <td>111865</td>\n",
       "      <td>6611</td>\n",
       "      <td>['4 GB RAM | 64 GB ROM | Expandable Upto 1 TB'...</td>\n",
       "      <td>10999</td>\n",
       "      <td>15999</td>\n",
       "      <td>31</td>\n",
       "    </tr>\n",
       "    <tr>\n",
       "      <th>1</th>\n",
       "      <td>realme 9i (Prism Black, 64 GB)</td>\n",
       "      <td>realme</td>\n",
       "      <td>4.5</td>\n",
       "      <td>111865</td>\n",
       "      <td>6611</td>\n",
       "      <td>['4 GB RAM | 64 GB ROM | Expandable Upto 1 TB'...</td>\n",
       "      <td>10999</td>\n",
       "      <td>15999</td>\n",
       "      <td>31</td>\n",
       "    </tr>\n",
       "    <tr>\n",
       "      <th>2</th>\n",
       "      <td>realme 9i (Prism Blue, 128 GB)</td>\n",
       "      <td>realme</td>\n",
       "      <td>4.5</td>\n",
       "      <td>25380</td>\n",
       "      <td>1517</td>\n",
       "      <td>['6 GB RAM | 128 GB ROM | Expandable Upto 1 TB...</td>\n",
       "      <td>13499</td>\n",
       "      <td>17999</td>\n",
       "      <td>25</td>\n",
       "    </tr>\n",
       "    <tr>\n",
       "      <th>3</th>\n",
       "      <td>realme 9i (Prism Black, 128 GB)</td>\n",
       "      <td>realme</td>\n",
       "      <td>4.5</td>\n",
       "      <td>111865</td>\n",
       "      <td>6611</td>\n",
       "      <td>['4 GB RAM | 128 GB ROM | Expandable Upto 1 TB...</td>\n",
       "      <td>10999</td>\n",
       "      <td>16999</td>\n",
       "      <td>35</td>\n",
       "    </tr>\n",
       "    <tr>\n",
       "      <th>4</th>\n",
       "      <td>realme 9i (Prism Blue, 128 GB)</td>\n",
       "      <td>realme</td>\n",
       "      <td>4.5</td>\n",
       "      <td>111865</td>\n",
       "      <td>6611</td>\n",
       "      <td>['4 GB RAM | 128 GB ROM | Expandable Upto 1 TB...</td>\n",
       "      <td>10999</td>\n",
       "      <td>16999</td>\n",
       "      <td>35</td>\n",
       "    </tr>\n",
       "  </tbody>\n",
       "</table>\n",
       "</div>"
      ],
      "text/plain": [
       "                              Name   Brand  Ratings  No_of_ratings  \\\n",
       "0    realme 9i (Prism Blue, 64 GB)  realme      4.5         111865   \n",
       "1   realme 9i (Prism Black, 64 GB)  realme      4.5         111865   \n",
       "2   realme 9i (Prism Blue, 128 GB)  realme      4.5          25380   \n",
       "3  realme 9i (Prism Black, 128 GB)  realme      4.5         111865   \n",
       "4   realme 9i (Prism Blue, 128 GB)  realme      4.5         111865   \n",
       "\n",
       "   No_of_reviews                                   Product_features    MSP  \\\n",
       "0           6611  ['4 GB RAM | 64 GB ROM | Expandable Upto 1 TB'...  10999   \n",
       "1           6611  ['4 GB RAM | 64 GB ROM | Expandable Upto 1 TB'...  10999   \n",
       "2           1517  ['6 GB RAM | 128 GB ROM | Expandable Upto 1 TB...  13499   \n",
       "3           6611  ['4 GB RAM | 128 GB ROM | Expandable Upto 1 TB...  10999   \n",
       "4           6611  ['4 GB RAM | 128 GB ROM | Expandable Upto 1 TB...  10999   \n",
       "\n",
       "     MRP  Discount  \n",
       "0  15999        31  \n",
       "1  15999        31  \n",
       "2  17999        25  \n",
       "3  16999        35  \n",
       "4  16999        35  "
      ]
     },
     "execution_count": 5,
     "metadata": {},
     "output_type": "execute_result"
    }
   ],
   "source": [
    "df.head()"
   ]
  },
  {
   "cell_type": "markdown",
   "id": "68c14403",
   "metadata": {},
   "source": [
    "### Bottom 5 Data Records"
   ]
  },
  {
   "cell_type": "code",
   "execution_count": 6,
   "id": "7f684376",
   "metadata": {},
   "outputs": [
    {
     "data": {
      "text/html": [
       "<div>\n",
       "<style scoped>\n",
       "    .dataframe tbody tr th:only-of-type {\n",
       "        vertical-align: middle;\n",
       "    }\n",
       "\n",
       "    .dataframe tbody tr th {\n",
       "        vertical-align: top;\n",
       "    }\n",
       "\n",
       "    .dataframe thead th {\n",
       "        text-align: right;\n",
       "    }\n",
       "</style>\n",
       "<table border=\"1\" class=\"dataframe\">\n",
       "  <thead>\n",
       "    <tr style=\"text-align: right;\">\n",
       "      <th></th>\n",
       "      <th>Name</th>\n",
       "      <th>Brand</th>\n",
       "      <th>Ratings</th>\n",
       "      <th>No_of_ratings</th>\n",
       "      <th>No_of_reviews</th>\n",
       "      <th>Product_features</th>\n",
       "      <th>MSP</th>\n",
       "      <th>MRP</th>\n",
       "      <th>Discount</th>\n",
       "    </tr>\n",
       "  </thead>\n",
       "  <tbody>\n",
       "    <tr>\n",
       "      <th>617</th>\n",
       "      <td>MOTOROLA e32 (Eco Black, 64 GB)</td>\n",
       "      <td>MOTOROLA</td>\n",
       "      <td>4.2</td>\n",
       "      <td>123</td>\n",
       "      <td>16</td>\n",
       "      <td>['4 GB RAM | 64 GB ROM | Expandable Upto 1 TB'...</td>\n",
       "      <td>9499</td>\n",
       "      <td>11999</td>\n",
       "      <td>20</td>\n",
       "    </tr>\n",
       "    <tr>\n",
       "      <th>618</th>\n",
       "      <td>REDMI Note 9 (Pebble Grey, 128 GB)</td>\n",
       "      <td>REDMI</td>\n",
       "      <td>4.3</td>\n",
       "      <td>123381</td>\n",
       "      <td>9426</td>\n",
       "      <td>['4 GB RAM | 128 GB ROM | Expandable Upto 512 ...</td>\n",
       "      <td>13499</td>\n",
       "      <td>16499</td>\n",
       "      <td>18</td>\n",
       "    </tr>\n",
       "    <tr>\n",
       "      <th>619</th>\n",
       "      <td>SAMSUNG Galaxy A13 (Blue, 128 GB)</td>\n",
       "      <td>SAMSUNG</td>\n",
       "      <td>4.1</td>\n",
       "      <td>247</td>\n",
       "      <td>19</td>\n",
       "      <td>['6 GB RAM | 128 GB ROM | Expandable Upto 1 TB...</td>\n",
       "      <td>16999</td>\n",
       "      <td>20990</td>\n",
       "      <td>19</td>\n",
       "    </tr>\n",
       "    <tr>\n",
       "      <th>620</th>\n",
       "      <td>REDMI Note 11 Pro (Star Blue, 128 GB)</td>\n",
       "      <td>REDMI</td>\n",
       "      <td>4.1</td>\n",
       "      <td>611</td>\n",
       "      <td>43</td>\n",
       "      <td>['8 GB RAM | 128 GB ROM', '16.94 cm (6.67 inch...</td>\n",
       "      <td>19395</td>\n",
       "      <td>20689</td>\n",
       "      <td>6</td>\n",
       "    </tr>\n",
       "    <tr>\n",
       "      <th>621</th>\n",
       "      <td>OPPO F21 Pro (Cosmic Black, 128 GB)</td>\n",
       "      <td>OPPO</td>\n",
       "      <td>4.3</td>\n",
       "      <td>1756</td>\n",
       "      <td>149</td>\n",
       "      <td>['8 GB RAM | 128 GB ROM', '16.33 cm (6.43 inch...</td>\n",
       "      <td>21999</td>\n",
       "      <td>27999</td>\n",
       "      <td>21</td>\n",
       "    </tr>\n",
       "  </tbody>\n",
       "</table>\n",
       "</div>"
      ],
      "text/plain": [
       "                                      Name     Brand  Ratings  No_of_ratings  \\\n",
       "617        MOTOROLA e32 (Eco Black, 64 GB)  MOTOROLA      4.2            123   \n",
       "618     REDMI Note 9 (Pebble Grey, 128 GB)     REDMI      4.3         123381   \n",
       "619      SAMSUNG Galaxy A13 (Blue, 128 GB)   SAMSUNG      4.1            247   \n",
       "620  REDMI Note 11 Pro (Star Blue, 128 GB)     REDMI      4.1            611   \n",
       "621    OPPO F21 Pro (Cosmic Black, 128 GB)      OPPO      4.3           1756   \n",
       "\n",
       "     No_of_reviews                                   Product_features    MSP  \\\n",
       "617             16  ['4 GB RAM | 64 GB ROM | Expandable Upto 1 TB'...   9499   \n",
       "618           9426  ['4 GB RAM | 128 GB ROM | Expandable Upto 512 ...  13499   \n",
       "619             19  ['6 GB RAM | 128 GB ROM | Expandable Upto 1 TB...  16999   \n",
       "620             43  ['8 GB RAM | 128 GB ROM', '16.94 cm (6.67 inch...  19395   \n",
       "621            149  ['8 GB RAM | 128 GB ROM', '16.33 cm (6.43 inch...  21999   \n",
       "\n",
       "       MRP  Discount  \n",
       "617  11999        20  \n",
       "618  16499        18  \n",
       "619  20990        19  \n",
       "620  20689         6  \n",
       "621  27999        21  "
      ]
     },
     "execution_count": 6,
     "metadata": {},
     "output_type": "execute_result"
    }
   ],
   "source": [
    "df.tail()"
   ]
  },
  {
   "cell_type": "markdown",
   "id": "518da830",
   "metadata": {},
   "source": [
    "# "
   ]
  },
  {
   "cell_type": "markdown",
   "id": "0d0684f2",
   "metadata": {},
   "source": [
    "# 2) Selection of Features and Target Variables"
   ]
  },
  {
   "cell_type": "code",
   "execution_count": 7,
   "id": "671eaf0e",
   "metadata": {},
   "outputs": [
    {
     "name": "stdout",
     "output_type": "stream",
     "text": [
      "                                      Name     Brand  Ratings  No_of_ratings  \\\n",
      "0            realme 9i (Prism Blue, 64 GB)    realme      4.5         111865   \n",
      "1           realme 9i (Prism Black, 64 GB)    realme      4.5         111865   \n",
      "2           realme 9i (Prism Blue, 128 GB)    realme      4.5          25380   \n",
      "3          realme 9i (Prism Black, 128 GB)    realme      4.5         111865   \n",
      "4           realme 9i (Prism Blue, 128 GB)    realme      4.5         111865   \n",
      "..                                     ...       ...      ...            ...   \n",
      "617        MOTOROLA e32 (Eco Black, 64 GB)  MOTOROLA      4.2            123   \n",
      "618     REDMI Note 9 (Pebble Grey, 128 GB)     REDMI      4.3         123381   \n",
      "619      SAMSUNG Galaxy A13 (Blue, 128 GB)   SAMSUNG      4.1            247   \n",
      "620  REDMI Note 11 Pro (Star Blue, 128 GB)     REDMI      4.1            611   \n",
      "621    OPPO F21 Pro (Cosmic Black, 128 GB)      OPPO      4.3           1756   \n",
      "\n",
      "     No_of_reviews                                   Product_features    MRP  \\\n",
      "0             6611  ['4 GB RAM | 64 GB ROM | Expandable Upto 1 TB'...  15999   \n",
      "1             6611  ['4 GB RAM | 64 GB ROM | Expandable Upto 1 TB'...  15999   \n",
      "2             1517  ['6 GB RAM | 128 GB ROM | Expandable Upto 1 TB...  17999   \n",
      "3             6611  ['4 GB RAM | 128 GB ROM | Expandable Upto 1 TB...  16999   \n",
      "4             6611  ['4 GB RAM | 128 GB ROM | Expandable Upto 1 TB...  16999   \n",
      "..             ...                                                ...    ...   \n",
      "617             16  ['4 GB RAM | 64 GB ROM | Expandable Upto 1 TB'...  11999   \n",
      "618           9426  ['4 GB RAM | 128 GB ROM | Expandable Upto 512 ...  16499   \n",
      "619             19  ['6 GB RAM | 128 GB ROM | Expandable Upto 1 TB...  20990   \n",
      "620             43  ['8 GB RAM | 128 GB ROM', '16.94 cm (6.67 inch...  20689   \n",
      "621            149  ['8 GB RAM | 128 GB ROM', '16.33 cm (6.43 inch...  27999   \n",
      "\n",
      "     Discount  \n",
      "0          31  \n",
      "1          31  \n",
      "2          25  \n",
      "3          35  \n",
      "4          35  \n",
      "..        ...  \n",
      "617        20  \n",
      "618        18  \n",
      "619        19  \n",
      "620         6  \n",
      "621        21  \n",
      "\n",
      "[622 rows x 8 columns]\n"
     ]
    }
   ],
   "source": [
    "x = df.drop(columns=[\"MSP\"],axis=1)\n",
    "\n",
    "print(x)"
   ]
  },
  {
   "cell_type": "code",
   "execution_count": 8,
   "id": "133c9895",
   "metadata": {},
   "outputs": [
    {
     "name": "stdout",
     "output_type": "stream",
     "text": [
      "0      10999\n",
      "1      10999\n",
      "2      13499\n",
      "3      10999\n",
      "4      10999\n",
      "       ...  \n",
      "617     9499\n",
      "618    13499\n",
      "619    16999\n",
      "620    19395\n",
      "621    21999\n",
      "Name: MSP, Length: 622, dtype: int32\n"
     ]
    }
   ],
   "source": [
    "y= df[\"MSP\"]\n",
    "\n",
    "print(y)"
   ]
  },
  {
   "cell_type": "markdown",
   "id": "cb039a3a",
   "metadata": {},
   "source": [
    "### Performing Standard Scaling"
   ]
  },
  {
   "cell_type": "code",
   "execution_count": 9,
   "id": "3174977b",
   "metadata": {},
   "outputs": [
    {
     "name": "stdout",
     "output_type": "stream",
     "text": [
      "['Ratings', 'No_of_ratings', 'No_of_reviews', 'MSP', 'MRP', 'Discount']\n"
     ]
    }
   ],
   "source": [
    "from sklearn.preprocessing import StandardScaler\n",
    "scaler = StandardScaler()\n",
    "\n",
    "numerical_var = ['Ratings','No_of_ratings', 'No_of_reviews', 'MSP', 'MRP', 'Discount']\n",
    "print(numerical_var)"
   ]
  },
  {
   "cell_type": "code",
   "execution_count": 10,
   "id": "9bc435ad",
   "metadata": {},
   "outputs": [
    {
     "name": "stdout",
     "output_type": "stream",
     "text": [
      "      Ratings  No_of_ratings  No_of_reviews       MSP       MRP  Discount\n",
      "0    1.236403       0.837037       0.617728 -0.367333 -0.279037  1.122580\n",
      "1    1.236403       0.837037       0.617728 -0.367333 -0.279037  1.122580\n",
      "2    1.236403      -0.280172      -0.360331 -0.225762 -0.183931  0.586225\n",
      "3    1.236403       0.837037       0.617728 -0.367333 -0.231484  1.480150\n",
      "4    1.236403       0.837037       0.617728 -0.367333 -0.231484  1.480150\n",
      "..        ...            ...            ...       ...       ...       ...\n",
      "617 -0.356917      -0.606441      -0.648526 -0.452276 -0.469250  0.139263\n",
      "618  0.174189       0.985801       1.158213 -0.225762 -0.255261 -0.039522\n",
      "619 -0.888024      -0.604839      -0.647950 -0.027561 -0.041699  0.049870\n",
      "620 -0.888024      -0.600137      -0.643342  0.108121 -0.056013 -1.112232\n",
      "621  0.174189      -0.585346      -0.622990  0.255582  0.291601  0.228655\n",
      "\n",
      "[622 rows x 6 columns]\n"
     ]
    }
   ],
   "source": [
    "df_scaled = df.copy()\n",
    "df_scaled[numerical_var] = scaler.fit_transform(df[numerical_var])\n",
    "\n",
    "print(df_scaled[numerical_var])\n"
   ]
  },
  {
   "cell_type": "code",
   "execution_count": 11,
   "id": "f18e7b50",
   "metadata": {},
   "outputs": [
    {
     "name": "stdout",
     "output_type": "stream",
     "text": [
      "                              Name   Brand   Ratings  No_of_ratings  \\\n",
      "0    realme 9i (Prism Blue, 64 GB)  realme  1.236403       0.837037   \n",
      "1   realme 9i (Prism Black, 64 GB)  realme  1.236403       0.837037   \n",
      "2   realme 9i (Prism Blue, 128 GB)  realme  1.236403      -0.280172   \n",
      "3  realme 9i (Prism Black, 128 GB)  realme  1.236403       0.837037   \n",
      "4   realme 9i (Prism Blue, 128 GB)  realme  1.236403       0.837037   \n",
      "\n",
      "   No_of_reviews                                   Product_features       MSP  \\\n",
      "0       0.617728  ['4 GB RAM | 64 GB ROM | Expandable Upto 1 TB'... -0.367333   \n",
      "1       0.617728  ['4 GB RAM | 64 GB ROM | Expandable Upto 1 TB'... -0.367333   \n",
      "2      -0.360331  ['6 GB RAM | 128 GB ROM | Expandable Upto 1 TB... -0.225762   \n",
      "3       0.617728  ['4 GB RAM | 128 GB ROM | Expandable Upto 1 TB... -0.367333   \n",
      "4       0.617728  ['4 GB RAM | 128 GB ROM | Expandable Upto 1 TB... -0.367333   \n",
      "\n",
      "        MRP  Discount  \n",
      "0 -0.279037  1.122580  \n",
      "1 -0.279037  1.122580  \n",
      "2 -0.183931  0.586225  \n",
      "3 -0.231484  1.480150  \n",
      "4 -0.231484  1.480150  \n"
     ]
    }
   ],
   "source": [
    "print(df_scaled.head())\n"
   ]
  },
  {
   "cell_type": "markdown",
   "id": "a2b7c95e",
   "metadata": {},
   "source": [
    "### Model Selection after Scaling"
   ]
  },
  {
   "cell_type": "code",
   "execution_count": 12,
   "id": "8ac77c88",
   "metadata": {},
   "outputs": [
    {
     "name": "stdout",
     "output_type": "stream",
     "text": [
      "      Ratings  No_of_ratings  No_of_reviews       MRP  Discount\n",
      "0    1.236403       0.837037       0.617728 -0.279037  1.122580\n",
      "1    1.236403       0.837037       0.617728 -0.279037  1.122580\n",
      "2    1.236403      -0.280172      -0.360331 -0.183931  0.586225\n",
      "3    1.236403       0.837037       0.617728 -0.231484  1.480150\n",
      "4    1.236403       0.837037       0.617728 -0.231484  1.480150\n",
      "..        ...            ...            ...       ...       ...\n",
      "617 -0.356917      -0.606441      -0.648526 -0.469250  0.139263\n",
      "618  0.174189       0.985801       1.158213 -0.255261 -0.039522\n",
      "619 -0.888024      -0.604839      -0.647950 -0.041699  0.049870\n",
      "620 -0.888024      -0.600137      -0.643342 -0.056013 -1.112232\n",
      "621  0.174189      -0.585346      -0.622990  0.291601  0.228655\n",
      "\n",
      "[622 rows x 5 columns]\n",
      "0     -0.367333\n",
      "1     -0.367333\n",
      "2     -0.225762\n",
      "3     -0.367333\n",
      "4     -0.367333\n",
      "         ...   \n",
      "617   -0.452276\n",
      "618   -0.225762\n",
      "619   -0.027561\n",
      "620    0.108121\n",
      "621    0.255582\n",
      "Name: MSP, Length: 622, dtype: float64\n",
      "x_shape_input: (622, 5)\n",
      "y_shape_target: (622,)\n"
     ]
    }
   ],
   "source": [
    "x_scaled = df_scaled.drop(columns=[\"Name\",\"Brand\",\"Product_features\",\"MSP\"],axis=1)\n",
    "print(x_scaled)\n",
    "\n",
    "y_scaled= df_scaled[\"MSP\"]\n",
    "print(y_scaled)\n",
    "\n",
    "print(\"x_shape_input:\",x_scaled.shape)\n",
    "print(\"y_shape_target:\",y_scaled.shape)"
   ]
  },
  {
   "cell_type": "code",
   "execution_count": 13,
   "id": "ec8a091d",
   "metadata": {},
   "outputs": [
    {
     "name": "stdout",
     "output_type": "stream",
     "text": [
      "x_train_shape : (497, 5)\n",
      "x_test_shape: (125, 5)\n",
      "y_train_shape : (497, 5)\n",
      "y_test_shape : (125, 5)\n"
     ]
    }
   ],
   "source": [
    "# spliting data into Training and testing\n",
    "\n",
    "from sklearn.model_selection import train_test_split\n",
    "x_train,x_test,y_train,y_test = train_test_split(x_scaled,y_scaled,test_size=0.2,random_state=42)\n",
    "\n",
    "print(\"x_train_shape :\", x_train.shape)\n",
    "print(\"x_test_shape:\",x_test.shape)\n",
    "print(\"y_train_shape :\", x_train.shape)\n",
    "print(\"y_test_shape :\", x_test.shape)"
   ]
  },
  {
   "cell_type": "markdown",
   "id": "e8526f3e",
   "metadata": {},
   "source": [
    "# "
   ]
  },
  {
   "cell_type": "markdown",
   "id": "50e44b2e",
   "metadata": {},
   "source": [
    "# 3) Model Evaluation"
   ]
  },
  {
   "cell_type": "markdown",
   "id": "a4861884",
   "metadata": {},
   "source": [
    "### Evaluate Function for Model Metrics"
   ]
  },
  {
   "cell_type": "code",
   "execution_count": 14,
   "id": "cb1439fb",
   "metadata": {},
   "outputs": [],
   "source": [
    "def evaluate_model(true,predicted):\n",
    "    mae = mean_absolute_error(true,predicted)\n",
    "    mse = mean_squared_error(true,predicted)\n",
    "    rmse = np.sqrt(mean_squared_error(true,predicted))\n",
    "    r2_square = r2_score(true, predicted)\n",
    "    return mae, rmse, r2_square      \n",
    "\n",
    "models = {\n",
    "    \"Linear Regression\": LinearRegression(),\n",
    "    \"Ridge Regression\": Ridge(),\n",
    "    \"Lasso Regression\": Lasso(),\n",
    "    \"Decision Tree\": DecisionTreeRegressor(),\n",
    "    \"Random Forest\": RandomForestRegressor(),\n",
    "    \"K-Nearest Neighbors\": KNeighborsRegressor(),\n",
    "    \"Support Vector Machine\": SVR(),\n",
    "    \"XGBoost\": XGBRegressor(),\n",
    "    \"AdaBoost\": AdaBoostRegressor()\n",
    "}\n",
    "\n",
    "model_list = []\n",
    "r2_list = []\n"
   ]
  },
  {
   "cell_type": "code",
   "execution_count": 15,
   "id": "7230d2d2",
   "metadata": {},
   "outputs": [
    {
     "name": "stdout",
     "output_type": "stream",
     "text": [
      "Linear Regression\n",
      "Model performance for Training set\n",
      "- Root Mean Squared Error: 0.1344\n",
      "- Mean Absolute Error: 0.0788\n",
      "- R2 Score: 0.9791\n",
      "----------------------------------\n",
      "Model performance for Test set\n",
      "- Root Mean Squared Error: 0.1479\n",
      "- Mean Absolute Error: 0.0846\n",
      "- R2 Score: 0.9857\n",
      "===================================\n",
      "\n",
      "\n",
      "Ridge Regression\n",
      "Model performance for Training set\n",
      "- Root Mean Squared Error: 0.1344\n",
      "- Mean Absolute Error: 0.0790\n",
      "- R2 Score: 0.9791\n",
      "----------------------------------\n",
      "Model performance for Test set\n",
      "- Root Mean Squared Error: 0.1493\n",
      "- Mean Absolute Error: 0.0851\n",
      "- R2 Score: 0.9854\n",
      "===================================\n",
      "\n",
      "\n",
      "Lasso Regression\n",
      "Model performance for Training set\n",
      "- Root Mean Squared Error: 0.9295\n",
      "- Mean Absolute Error: 0.5863\n",
      "- R2 Score: 0.0000\n",
      "----------------------------------\n",
      "Model performance for Test set\n",
      "- Root Mean Squared Error: 1.2428\n",
      "- Mean Absolute Error: 0.7146\n",
      "- R2 Score: -0.0119\n",
      "===================================\n",
      "\n",
      "\n",
      "Decision Tree\n",
      "Model performance for Training set\n",
      "- Root Mean Squared Error: 0.0000\n",
      "- Mean Absolute Error: 0.0000\n",
      "- R2 Score: 1.0000\n",
      "----------------------------------\n",
      "Model performance for Test set\n",
      "- Root Mean Squared Error: 0.2498\n",
      "- Mean Absolute Error: 0.0505\n",
      "- R2 Score: 0.9591\n",
      "===================================\n",
      "\n",
      "\n",
      "Random Forest\n",
      "Model performance for Training set\n",
      "- Root Mean Squared Error: 0.0283\n",
      "- Mean Absolute Error: 0.0098\n",
      "- R2 Score: 0.9991\n",
      "----------------------------------\n",
      "Model performance for Test set\n",
      "- Root Mean Squared Error: 0.1889\n",
      "- Mean Absolute Error: 0.0474\n",
      "- R2 Score: 0.9766\n",
      "===================================\n",
      "\n",
      "\n",
      "K-Nearest Neighbors\n",
      "Model performance for Training set\n",
      "- Root Mean Squared Error: 0.1503\n",
      "- Mean Absolute Error: 0.0878\n",
      "- R2 Score: 0.9739\n",
      "----------------------------------\n",
      "Model performance for Test set\n",
      "- Root Mean Squared Error: 0.2498\n",
      "- Mean Absolute Error: 0.1360\n",
      "- R2 Score: 0.9591\n",
      "===================================\n",
      "\n",
      "\n",
      "Support Vector Machine\n",
      "Model performance for Training set\n",
      "- Root Mean Squared Error: 0.0819\n",
      "- Mean Absolute Error: 0.0628\n",
      "- R2 Score: 0.9922\n",
      "----------------------------------\n",
      "Model performance for Test set\n",
      "- Root Mean Squared Error: 0.2315\n",
      "- Mean Absolute Error: 0.0982\n",
      "- R2 Score: 0.9649\n",
      "===================================\n",
      "\n",
      "\n",
      "XGBoost\n",
      "Model performance for Training set\n",
      "- Root Mean Squared Error: 0.0013\n",
      "- Mean Absolute Error: 0.0008\n",
      "- R2 Score: 1.0000\n",
      "----------------------------------\n",
      "Model performance for Test set\n",
      "- Root Mean Squared Error: 0.1610\n",
      "- Mean Absolute Error: 0.0410\n",
      "- R2 Score: 0.9830\n",
      "===================================\n",
      "\n",
      "\n",
      "AdaBoost\n",
      "Model performance for Training set\n",
      "- Root Mean Squared Error: 0.1250\n",
      "- Mean Absolute Error: 0.1037\n",
      "- R2 Score: 0.9819\n",
      "----------------------------------\n",
      "Model performance for Test set\n",
      "- Root Mean Squared Error: 0.1946\n",
      "- Mean Absolute Error: 0.1236\n",
      "- R2 Score: 0.9752\n",
      "===================================\n",
      "\n",
      "\n"
     ]
    }
   ],
   "source": [
    "# Evaluate Training and Testing dataset\n",
    "\n",
    "for i in range(len(list(models))):\n",
    "    model = list(models.values())[i]\n",
    "    model.fit(x_train, y_train) \n",
    "    \n",
    "    # Make predictions\n",
    "    y_train_pred = model.predict(x_train)\n",
    "    y_test_pred = model.predict(x_test)\n",
    "\n",
    "    model_train_mae = mean_absolute_error(y_train, y_train_pred)\n",
    "    model_train_rmse = np.sqrt(mean_squared_error(y_train, y_train_pred))\n",
    "    model_train_r2 = r2_score(y_train, y_train_pred)\n",
    "\n",
    "    model_test_mae = mean_absolute_error(y_test, y_test_pred)\n",
    "    model_test_rmse = np.sqrt(mean_squared_error(y_test, y_test_pred))\n",
    "    model_test_r2 = r2_score(y_test, y_test_pred)\n",
    "\n",
    "    print(list(models.keys())[i])\n",
    "    model_list.append(list(models.keys())[i])\n",
    "\n",
    "    print('Model performance for Training set')\n",
    "    print(\"- Root Mean Squared Error: {:.4f}\".format(model_train_rmse))\n",
    "    print(\"- Mean Absolute Error: {:.4f}\".format(model_train_mae))\n",
    "    print(\"- R2 Score: {:.4f}\".format(model_train_r2))\n",
    "\n",
    "    print('----------------------------------')\n",
    "\n",
    "    print('Model performance for Test set')\n",
    "    print(\"- Root Mean Squared Error: {:.4f}\".format(model_test_rmse))\n",
    "    print(\"- Mean Absolute Error: {:.4f}\".format(model_test_mae))\n",
    "    print(\"- R2 Score: {:.4f}\".format(model_test_r2))\n",
    "    r2_list.append(model_test_r2)\n",
    "\n",
    "    print('=' * 35)\n",
    "    print('\\n')"
   ]
  },
  {
   "cell_type": "markdown",
   "id": "b7c9c3bf",
   "metadata": {},
   "source": [
    "### Results"
   ]
  },
  {
   "cell_type": "code",
   "execution_count": 16,
   "id": "8eaefdec",
   "metadata": {},
   "outputs": [
    {
     "data": {
      "text/html": [
       "<div>\n",
       "<style scoped>\n",
       "    .dataframe tbody tr th:only-of-type {\n",
       "        vertical-align: middle;\n",
       "    }\n",
       "\n",
       "    .dataframe tbody tr th {\n",
       "        vertical-align: top;\n",
       "    }\n",
       "\n",
       "    .dataframe thead th {\n",
       "        text-align: right;\n",
       "    }\n",
       "</style>\n",
       "<table border=\"1\" class=\"dataframe\">\n",
       "  <thead>\n",
       "    <tr style=\"text-align: right;\">\n",
       "      <th></th>\n",
       "      <th>Model_Names</th>\n",
       "      <th>R2_Scores</th>\n",
       "    </tr>\n",
       "  </thead>\n",
       "  <tbody>\n",
       "    <tr>\n",
       "      <th>0</th>\n",
       "      <td>Linear Regression</td>\n",
       "      <td>0.985670</td>\n",
       "    </tr>\n",
       "    <tr>\n",
       "      <th>1</th>\n",
       "      <td>Ridge Regression</td>\n",
       "      <td>0.985390</td>\n",
       "    </tr>\n",
       "    <tr>\n",
       "      <th>7</th>\n",
       "      <td>XGBoost</td>\n",
       "      <td>0.983021</td>\n",
       "    </tr>\n",
       "    <tr>\n",
       "      <th>4</th>\n",
       "      <td>Random Forest</td>\n",
       "      <td>0.976623</td>\n",
       "    </tr>\n",
       "    <tr>\n",
       "      <th>8</th>\n",
       "      <td>AdaBoost</td>\n",
       "      <td>0.975192</td>\n",
       "    </tr>\n",
       "    <tr>\n",
       "      <th>6</th>\n",
       "      <td>Support Vector Machine</td>\n",
       "      <td>0.964877</td>\n",
       "    </tr>\n",
       "    <tr>\n",
       "      <th>5</th>\n",
       "      <td>K-Nearest Neighbors</td>\n",
       "      <td>0.959124</td>\n",
       "    </tr>\n",
       "    <tr>\n",
       "      <th>3</th>\n",
       "      <td>Decision Tree</td>\n",
       "      <td>0.959116</td>\n",
       "    </tr>\n",
       "    <tr>\n",
       "      <th>2</th>\n",
       "      <td>Lasso Regression</td>\n",
       "      <td>-0.011932</td>\n",
       "    </tr>\n",
       "  </tbody>\n",
       "</table>\n",
       "</div>"
      ],
      "text/plain": [
       "              Model_Names  R2_Scores\n",
       "0       Linear Regression   0.985670\n",
       "1        Ridge Regression   0.985390\n",
       "7                 XGBoost   0.983021\n",
       "4           Random Forest   0.976623\n",
       "8                AdaBoost   0.975192\n",
       "6  Support Vector Machine   0.964877\n",
       "5     K-Nearest Neighbors   0.959124\n",
       "3           Decision Tree   0.959116\n",
       "2        Lasso Regression  -0.011932"
      ]
     },
     "execution_count": 16,
     "metadata": {},
     "output_type": "execute_result"
    }
   ],
   "source": [
    "pd.DataFrame(list(zip(model_list,r2_list)), columns=[\"Model_Names\", \"R2_Scores\"]).sort_values(by=[\"R2_Scores\"],ascending = False)"
   ]
  },
  {
   "cell_type": "markdown",
   "id": "230e6d44",
   "metadata": {},
   "source": [
    "### Evaluating the accuracy of the model"
   ]
  },
  {
   "cell_type": "code",
   "execution_count": 17,
   "id": "aa3452e2",
   "metadata": {},
   "outputs": [
    {
     "name": "stdout",
     "output_type": "stream",
     "text": [
      "Accuracy of the model is 98.57\n"
     ]
    }
   ],
   "source": [
    "# Linear Regression\n",
    " \n",
    "lin_model = LinearRegression(fit_intercept=True)\n",
    "lin_model_fit = lin_model.fit(x_train,y_train)\n",
    "y_pred = lin_model_fit.predict(x_test)\n",
    "score= r2_score(y_test,y_pred)*100\n",
    "\n",
    "print(\"Accuracy of the model is %.2f\" %score)"
   ]
  },
  {
   "cell_type": "markdown",
   "id": "649d9fad",
   "metadata": {},
   "source": [
    "### Plot y_pred and y_test"
   ]
  },
  {
   "cell_type": "code",
   "execution_count": 18,
   "id": "4e5221e1",
   "metadata": {},
   "outputs": [
    {
     "data": {
      "text/plain": [
       "Text(0, 0.5, 'Predicted')"
      ]
     },
     "execution_count": 18,
     "metadata": {},
     "output_type": "execute_result"
    },
    {
     "data": {
      "image/png": "[encoded data removed]",
      "text/plain": [
       "<Figure size 432x288 with 1 Axes>"
      ]
     },
     "metadata": {
      "needs_background": "light"
     },
     "output_type": "display_data"
    }
   ],
   "source": [
    "plt.scatter(y_test,y_pred)\n",
    "plt.xlabel(\"Actual\")\n",
    "plt.ylabel(\"Predicted\")"
   ]
  },
  {
   "cell_type": "code",
   "execution_count": 19,
   "id": "5c137ac7",
   "metadata": {},
   "outputs": [
    {
     "data": {
      "text/plain": [
       "<AxesSubplot:xlabel='MSP'>"
      ]
     },
     "execution_count": 19,
     "metadata": {},
     "output_type": "execute_result"
    },
    {
     "data": {
      "image/png": "[encoded data removed]",
      "text/plain": [
       "<Figure size 432x288 with 1 Axes>"
      ]
     },
     "metadata": {
      "needs_background": "light"
     },
     "output_type": "display_data"
    }
   ],
   "source": [
    "sns.regplot(x=y_test,y=y_pred,ci = None,color=\"green\")"
   ]
  },
  {
   "cell_type": "markdown",
   "id": "5609d691",
   "metadata": {},
   "source": [
    "### Difference between Actual and Predicted Values"
   ]
  },
  {
   "cell_type": "code",
   "execution_count": 20,
   "id": "fd349bd1",
   "metadata": {},
   "outputs": [
    {
     "data": {
      "text/html": [
       "<div>\n",
       "<style scoped>\n",
       "    .dataframe tbody tr th:only-of-type {\n",
       "        vertical-align: middle;\n",
       "    }\n",
       "\n",
       "    .dataframe tbody tr th {\n",
       "        vertical-align: top;\n",
       "    }\n",
       "\n",
       "    .dataframe thead th {\n",
       "        text-align: right;\n",
       "    }\n",
       "</style>\n",
       "<table border=\"1\" class=\"dataframe\">\n",
       "  <thead>\n",
       "    <tr style=\"text-align: right;\">\n",
       "      <th></th>\n",
       "      <th>Actual_Values</th>\n",
       "      <th>Predicted_Values</th>\n",
       "      <th>Difference</th>\n",
       "    </tr>\n",
       "  </thead>\n",
       "  <tbody>\n",
       "    <tr>\n",
       "      <th>249</th>\n",
       "      <td>-0.140819</td>\n",
       "      <td>-0.086244</td>\n",
       "      <td>-0.054575</td>\n",
       "    </tr>\n",
       "    <tr>\n",
       "      <th>399</th>\n",
       "      <td>-0.480591</td>\n",
       "      <td>-0.421016</td>\n",
       "      <td>-0.059575</td>\n",
       "    </tr>\n",
       "    <tr>\n",
       "      <th>174</th>\n",
       "      <td>-0.423962</td>\n",
       "      <td>-0.399565</td>\n",
       "      <td>-0.024397</td>\n",
       "    </tr>\n",
       "    <tr>\n",
       "      <th>280</th>\n",
       "      <td>-0.237088</td>\n",
       "      <td>-0.296078</td>\n",
       "      <td>0.058990</td>\n",
       "    </tr>\n",
       "    <tr>\n",
       "      <th>110</th>\n",
       "      <td>-0.169133</td>\n",
       "      <td>-0.144833</td>\n",
       "      <td>-0.024300</td>\n",
       "    </tr>\n",
       "    <tr>\n",
       "      <th>...</th>\n",
       "      <td>...</td>\n",
       "      <td>...</td>\n",
       "      <td>...</td>\n",
       "    </tr>\n",
       "    <tr>\n",
       "      <th>6</th>\n",
       "      <td>-0.588185</td>\n",
       "      <td>-0.666404</td>\n",
       "      <td>0.078218</td>\n",
       "    </tr>\n",
       "    <tr>\n",
       "      <th>104</th>\n",
       "      <td>-0.028071</td>\n",
       "      <td>-0.037901</td>\n",
       "      <td>0.009830</td>\n",
       "    </tr>\n",
       "    <tr>\n",
       "      <th>114</th>\n",
       "      <td>-0.226271</td>\n",
       "      <td>-0.229095</td>\n",
       "      <td>0.002824</td>\n",
       "    </tr>\n",
       "    <tr>\n",
       "      <th>354</th>\n",
       "      <td>0.538725</td>\n",
       "      <td>0.556032</td>\n",
       "      <td>-0.017307</td>\n",
       "    </tr>\n",
       "    <tr>\n",
       "      <th>132</th>\n",
       "      <td>-0.310705</td>\n",
       "      <td>-0.398703</td>\n",
       "      <td>0.087998</td>\n",
       "    </tr>\n",
       "  </tbody>\n",
       "</table>\n",
       "<p>125 rows × 3 columns</p>\n",
       "</div>"
      ],
      "text/plain": [
       "     Actual_Values  Predicted_Values  Difference\n",
       "249      -0.140819         -0.086244   -0.054575\n",
       "399      -0.480591         -0.421016   -0.059575\n",
       "174      -0.423962         -0.399565   -0.024397\n",
       "280      -0.237088         -0.296078    0.058990\n",
       "110      -0.169133         -0.144833   -0.024300\n",
       "..             ...               ...         ...\n",
       "6        -0.588185         -0.666404    0.078218\n",
       "104      -0.028071         -0.037901    0.009830\n",
       "114      -0.226271         -0.229095    0.002824\n",
       "354       0.538725          0.556032   -0.017307\n",
       "132      -0.310705         -0.398703    0.087998\n",
       "\n",
       "[125 rows x 3 columns]"
      ]
     },
     "execution_count": 20,
     "metadata": {},
     "output_type": "execute_result"
    }
   ],
   "source": [
    "pred_df = pd.DataFrame({\"Actual_Values\":y_test,\"Predicted_Values\":y_pred,\"Difference\":y_test-y_pred})\n",
    "pred_df"
   ]
  },
  {
   "cell_type": "code",
   "execution_count": null,
   "id": "053782d7",
   "metadata": {},
   "outputs": [],
   "source": []
  },
  {
   "cell_type": "code",
   "execution_count": null,
   "id": "4e45d5a7",
   "metadata": {},
   "outputs": [],
   "source": []
  },
  {
   "cell_type": "code",
   "execution_count": null,
   "id": "13a8414a",
   "metadata": {},
   "outputs": [],
   "source": []
  },
  {
   "cell_type": "code",
   "execution_count": null,
   "id": "016aa143",
   "metadata": {},
   "outputs": [],
   "source": []
  },
  {
   "cell_type": "code",
   "execution_count": null,
   "id": "a5dcc35d",
   "metadata": {},
   "outputs": [],
   "source": []
  },
  {
   "cell_type": "code",
   "execution_count": null,
   "id": "79149963",
   "metadata": {},
   "outputs": [],
   "source": []
  },
  {
   "cell_type": "code",
   "execution_count": null,
   "id": "d83da3b2",
   "metadata": {},
   "outputs": [],
   "source": []
  },
  {
   "cell_type": "code",
   "execution_count": null,
   "id": "a5098659",
   "metadata": {},
   "outputs": [],
   "source": []
  },
  {
   "cell_type": "code",
   "execution_count": null,
   "id": "0b422d7d",
   "metadata": {},
   "outputs": [],
   "source": []
  },
  {
   "cell_type": "code",
   "execution_count": null,
   "id": "75e70154",
   "metadata": {},
   "outputs": [],
   "source": []
  },
  {
   "cell_type": "code",
   "execution_count": null,
   "id": "a8c6c5f3",
   "metadata": {},
   "outputs": [],
   "source": []
  },
  {
   "cell_type": "code",
   "execution_count": null,
   "id": "40e6bf2a",
   "metadata": {},
   "outputs": [],
   "source": []
  },
  {
   "cell_type": "code",
   "execution_count": null,
   "id": "47134efc",
   "metadata": {},
   "outputs": [],
   "source": []
  },
  {
   "cell_type": "code",
   "execution_count": null,
   "id": "cc099808",
   "metadata": {},
   "outputs": [],
   "source": []
  },
  {
   "cell_type": "code",
   "execution_count": null,
   "id": "97363173",
   "metadata": {},
   "outputs": [],
   "source": []
  },
  {
   "cell_type": "code",
   "execution_count": null,
   "id": "4221c36a",
   "metadata": {},
   "outputs": [],
   "source": []
  },
  {
   "cell_type": "code",
   "execution_count": null,
   "id": "9c3613d4",
   "metadata": {},
   "outputs": [],
   "source": []
  },
  {
   "cell_type": "code",
   "execution_count": null,
   "id": "4ba307f5",
   "metadata": {},
   "outputs": [],
   "source": []
  },
  {
   "cell_type": "code",
   "execution_count": null,
   "id": "91fadbbe",
   "metadata": {},
   "outputs": [],
   "source": []
  },
  {
   "cell_type": "code",
   "execution_count": null,
   "id": "0d3059cd",
   "metadata": {},
   "outputs": [],
   "source": []
  },
  {
   "cell_type": "code",
   "execution_count": null,
   "id": "6ec9a580",
   "metadata": {},
   "outputs": [],
   "source": []
  },
  {
   "cell_type": "code",
   "execution_count": null,
   "id": "38187940",
   "metadata": {},
   "outputs": [],
   "source": []
  },
  {
   "cell_type": "code",
   "execution_count": null,
   "id": "6d962326",
   "metadata": {},
   "outputs": [],
   "source": []
  },
  {
   "cell_type": "code",
   "execution_count": null,
   "id": "0dd92dc2",
   "metadata": {},
   "outputs": [],
   "source": []
  },
  {
   "cell_type": "code",
   "execution_count": null,
   "id": "dc29c2b1",
   "metadata": {},
   "outputs": [],
   "source": []
  },
  {
   "cell_type": "code",
   "execution_count": null,
   "id": "472737ff",
   "metadata": {},
   "outputs": [],
   "source": []
  },
  {
   "cell_type": "code",
   "execution_count": null,
   "id": "2a243da0",
   "metadata": {},
   "outputs": [],
   "source": []
  },
  {
   "cell_type": "code",
   "execution_count": null,
   "id": "42156ea4",
   "metadata": {},
   "outputs": [],
   "source": []
  },
  {
   "cell_type": "code",
   "execution_count": null,
   "id": "4dd9cbb4",
   "metadata": {},
   "outputs": [],
   "source": []
  },
  {
   "cell_type": "code",
   "execution_count": null,
   "id": "3b78dc74",
   "metadata": {},
   "outputs": [],
   "source": []
  },
  {
   "cell_type": "code",
   "execution_count": null,
   "id": "4e2682c8",
   "metadata": {},
   "outputs": [],
   "source": []
  },
  {
   "cell_type": "code",
   "execution_count": null,
   "id": "822ab85b",
   "metadata": {},
   "outputs": [],
   "source": []
  },
  {
   "cell_type": "code",
   "execution_count": null,
   "id": "921dc7a2",
   "metadata": {},
   "outputs": [],
   "source": []
  },
  {
   "cell_type": "code",
   "execution_count": null,
   "id": "d8c5ce01",
   "metadata": {},
   "outputs": [],
   "source": []
  },
  {
   "cell_type": "code",
   "execution_count": null,
   "id": "fbeffa6f",
   "metadata": {},
   "outputs": [],
   "source": []
  },
  {
   "cell_type": "code",
   "execution_count": null,
   "id": "cf442278",
   "metadata": {},
   "outputs": [],
   "source": []
  },
  {
   "cell_type": "code",
   "execution_count": null,
   "id": "42874813",
   "metadata": {},
   "outputs": [],
   "source": []
  },
  {
   "cell_type": "code",
   "execution_count": null,
   "id": "4d19d553",
   "metadata": {},
   "outputs": [],
   "source": []
  },
  {
   "cell_type": "code",
   "execution_count": null,
   "id": "95b98a09",
   "metadata": {},
   "outputs": [],
   "source": []
  },
  {
   "cell_type": "code",
   "execution_count": null,
   "id": "562cdd78",
   "metadata": {},
   "outputs": [],
   "source": []
  },
  {
   "cell_type": "code",
   "execution_count": null,
   "id": "e03aa500",
   "metadata": {},
   "outputs": [],
   "source": []
  },
  {
   "cell_type": "code",
   "execution_count": null,
   "id": "02b278ae",
   "metadata": {},
   "outputs": [],
   "source": []
  },
  {
   "cell_type": "code",
   "execution_count": null,
   "id": "cebde733",
   "metadata": {},
   "outputs": [],
   "source": []
  },
  {
   "cell_type": "code",
   "execution_count": null,
   "id": "87691a4d",
   "metadata": {},
   "outputs": [],
   "source": []
  },
  {
   "cell_type": "code",
   "execution_count": null,
   "id": "77d5c783",
   "metadata": {},
   "outputs": [],
   "source": []
  },
  {
   "cell_type": "code",
   "execution_count": null,
   "id": "890edda9",
   "metadata": {},
   "outputs": [],
   "source": []
  },
  {
   "cell_type": "code",
   "execution_count": null,
   "id": "b8512fbf",
   "metadata": {},
   "outputs": [],
   "source": []
  },
  {
   "cell_type": "code",
   "execution_count": null,
   "id": "eceeea57",
   "metadata": {},
   "outputs": [],
   "source": []
  },
  {
   "cell_type": "code",
   "execution_count": null,
   "id": "34ba0b62",
   "metadata": {},
   "outputs": [],
   "source": []
  },
  {
   "cell_type": "code",
   "execution_count": null,
   "id": "9a2b285b",
   "metadata": {},
   "outputs": [],
   "source": []
  },
  {
   "cell_type": "code",
   "execution_count": null,
   "id": "d4122368",
   "metadata": {},
   "outputs": [],
   "source": []
  },
  {
   "cell_type": "code",
   "execution_count": null,
   "id": "7fcaf096",
   "metadata": {},
   "outputs": [],
   "source": []
  },
  {
   "cell_type": "code",
   "execution_count": null,
   "id": "d4544aa9",
   "metadata": {},
   "outputs": [],
   "source": []
  },
  {
   "cell_type": "code",
   "execution_count": null,
   "id": "21c785ba",
   "metadata": {},
   "outputs": [],
   "source": []
  },
  {
   "cell_type": "code",
   "execution_count": null,
   "id": "1255d4ad",
   "metadata": {},
   "outputs": [],
   "source": []
  },
  {
   "cell_type": "code",
   "execution_count": null,
   "id": "04bd7424",
   "metadata": {},
   "outputs": [],
   "source": []
  },
  {
   "cell_type": "code",
   "execution_count": null,
   "id": "8ac3af9f",
   "metadata": {},
   "outputs": [],
   "source": []
  }
 ],
 "metadata": {
  "kernelspec": {
   "display_name": "Python 3 (ipykernel)",
   "language": "python",
   "name": "python3"
  },
  "language_info": {
   "codemirror_mode": {
    "name": "ipython",
    "version": 3
   },
   "file_extension": ".py",
   "mimetype": "text/x-python",
   "name": "python",
   "nbconvert_exporter": "python",
   "pygments_lexer": "ipython3",
   "version": "3.9.7"
  }
 },
 "nbformat": 4,
 "nbformat_minor": 5
}
